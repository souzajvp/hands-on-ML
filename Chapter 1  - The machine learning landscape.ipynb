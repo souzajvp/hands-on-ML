{
 "cells": [
  {
   "cell_type": "markdown",
   "metadata": {},
   "source": [
    "# Definitions of machine learning\n",
    "***\n",
    "Science of programming computers so they can *learn from data*.\n",
    "> ML is the field of study that gives computers the ability to learn without being explicitly programmed - Arthur Samuel, 1959\n",
    "\n",
    "# Why use machine learning\n",
    "***\n",
    "   Among many possible advantadges, ML is extremely useful at solving complex problems that would take much longer using standard approaches. Let's say you are interested in building a program that is able to filter spam e-mails. How would you do it? Maybe you could start at going through some e-mails at focusing at the common terms used in spam x not-spam e-mails. Misspelled words, suspicious adresses or eyebombing terms could catch your atention and you would write a program that classifies e-mails with such terms as spam. <br>\n",
    "   \n",
    "These approaches were feasible before, but as we get more and more uses of internet and *data* shifts to *big data*, it would be impossible for a programmer to read thousands and thousands of e-mails and understand what words are related to spam messages.<br>\n",
    "\n",
    "ML comes as a great set of tools because you could:\n",
    "1. Automatically detect words that are related to spam;\n",
    "2. The models can be trained with large ammounts of data;\n",
    "3. The same process of training and getting results can be repeated many times, regardless of the dataset. - whichs is really useful considering the evolution of the spam e-mails;\n",
    "4. "
   ]
  }
 ],
 "metadata": {
  "kernelspec": {
   "display_name": "Python 3",
   "language": "python",
   "name": "python3"
  },
  "language_info": {
   "codemirror_mode": {
    "name": "ipython",
    "version": 3
   },
   "file_extension": ".py",
   "mimetype": "text/x-python",
   "name": "python",
   "nbconvert_exporter": "python",
   "pygments_lexer": "ipython3",
   "version": "3.8.5"
  }
 },
 "nbformat": 4,
 "nbformat_minor": 4
}
