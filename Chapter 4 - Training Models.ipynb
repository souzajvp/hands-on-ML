{
 "cells": [
  {
   "cell_type": "markdown",
   "id": "a1ab5e6b",
   "metadata": {},
   "source": [
    "## The *normal equation*"
   ]
  },
  {
   "cell_type": "code",
   "execution_count": 1,
   "id": "226f693e",
   "metadata": {},
   "outputs": [],
   "source": [
    "import numpy as np"
   ]
  },
  {
   "cell_type": "code",
   "execution_count": 4,
   "id": "5ae9268d",
   "metadata": {},
   "outputs": [],
   "source": [
    "X = 2 * np.random.rand(100,1)\n",
    "y = 4 + 3 * X + np.random.randn(100,1)"
   ]
  },
  {
   "cell_type": "markdown",
   "id": "80ea2e83",
   "metadata": {},
   "source": [
    "Looking at our data"
   ]
  },
  {
   "cell_type": "code",
   "execution_count": 5,
   "id": "c2892e34",
   "metadata": {},
   "outputs": [],
   "source": [
    "import matplotlib.pyplot as plt"
   ]
  },
  {
   "cell_type": "code",
   "execution_count": 15,
   "id": "04887544",
   "metadata": {},
   "outputs": [
    {
     "data": {
      "image/png": "[encoded data removed]",
      "text/plain": [
       "<Figure size 432x288 with 1 Axes>"
      ]
     },
     "metadata": {
      "needs_background": "light"
     },
     "output_type": "display_data"
    }
   ],
   "source": [
    "plt.scatter(X,y,color='blue')\n",
    "plt.ylabel('y', fontsize=14)\n",
    "plt.xlabel('x1', fontsize=14)\n",
    "plt.title('Linear dataset created randomnly', fontsize=16, y=-0.25);"
   ]
  },
  {
   "cell_type": "markdown",
   "id": "705d1f07",
   "metadata": {},
   "source": [
    "Computing the Normal Equation"
   ]
  },
  {
   "cell_type": "code",
   "execution_count": 20,
   "id": "cb094601",
   "metadata": {},
   "outputs": [],
   "source": [
    "X_b = np.c_[np.ones((100, 1)), X] \n",
    "theta_best = np.linalg.inv(X_b.T.dot(X_b)).dot(X_b.T).dot(y)"
   ]
  },
  {
   "cell_type": "code",
   "execution_count": 22,
   "id": "bc6bf058",
   "metadata": {},
   "outputs": [
    {
     "data": {
      "text/plain": [
       "array([[4.03893394],\n",
       "       [2.94420199]])"
      ]
     },
     "execution_count": 22,
     "metadata": {},
     "output_type": "execute_result"
    }
   ],
   "source": [
    "theta_best"
   ]
  },
  {
   "cell_type": "markdown",
   "id": "288b8197",
   "metadata": {},
   "source": [
    "Making predictions"
   ]
  },
  {
   "cell_type": "code",
   "execution_count": 24,
   "id": "ed60de17",
   "metadata": {},
   "outputs": [
    {
     "data": {
      "text/plain": [
       "array([[4.03893394],\n",
       "       [9.92733792]])"
      ]
     },
     "execution_count": 24,
     "metadata": {},
     "output_type": "execute_result"
    }
   ],
   "source": [
    "X_new = np.array([[0], [2]])\n",
    "X_new_b= np.c_[np.ones((2,1)), X_new]\n",
    "y_predict = X_new_b.dot(theta_best)\n",
    "y_predict"
   ]
  },
  {
   "cell_type": "markdown",
   "id": "c06d4d1c",
   "metadata": {},
   "source": [
    "Plotting the predictions"
   ]
  },
  {
   "cell_type": "code",
   "execution_count": 28,
   "id": "578a1f64",
   "metadata": {},
   "outputs": [
    {
     "data": {
      "image/png": "[encoded data removed]",
      "text/plain": [
       "<Figure size 432x288 with 1 Axes>"
      ]
     },
     "metadata": {
      "needs_background": "light"
     },
     "output_type": "display_data"
    }
   ],
   "source": [
    "plt.plot(X_new, y_predict, 'r-', label='Predictions')\n",
    "plt.plot(X, y, \"b.\")\n",
    "plt.axis([0, 2,0, 15])\n",
    "plt.legend()\n",
    "plt.show()"
   ]
  },
  {
   "cell_type": "markdown",
   "id": "105a1d5c",
   "metadata": {},
   "source": [
    "Alternatively, we could perform the same analysis using Scikit-Learn Linear Regression"
   ]
  },
  {
   "cell_type": "code",
   "execution_count": 29,
   "id": "34fe7812",
   "metadata": {},
   "outputs": [],
   "source": [
    "from sklearn.linear_model import LinearRegression"
   ]
  },
  {
   "cell_type": "code",
   "execution_count": 31,
   "id": "ebecd09b",
   "metadata": {},
   "outputs": [
    {
     "data": {
      "text/plain": [
       "(array([4.03893394]), array([[2.94420199]]))"
      ]
     },
     "execution_count": 31,
     "metadata": {},
     "output_type": "execute_result"
    }
   ],
   "source": [
    "lin_reg = LinearRegression()\n",
    "lin_reg.fit(X,y)\n",
    "lin_reg.intercept_, lin_reg.coef_ "
   ]
  },
  {
   "cell_type": "code",
   "execution_count": 33,
   "id": "233299d9",
   "metadata": {},
   "outputs": [
    {
     "data": {
      "text/plain": [
       "array([[4.03893394],\n",
       "       [9.92733792]])"
      ]
     },
     "execution_count": 33,
     "metadata": {},
     "output_type": "execute_result"
    }
   ],
   "source": [
    "lin_reg.predict(X_new)"
   ]
  },
  {
   "cell_type": "markdown",
   "id": "b7a1b755",
   "metadata": {},
   "source": [
    "## Computational complexity\n",
    "Although these methdods were able get to the same results, the computational complexity of the Normal Equation is far greater. In this sense, the implementation on Sickit-Learn (SVD) is able to achieve results much faster, especially when dealing with larger datasets and with more features.\n",
    "\n",
    "On the other hand both NE and SVD are very slow when the number of features grows very large (e.g 100,000)."
   ]
  },
  {
   "cell_type": "markdown",
   "id": "a6b54ef1",
   "metadata": {},
   "source": [
    "## Gradient descent\n",
    "Gradient descent is a generic optimization algorithm that works by tweaking the parameters and testing the results of the new model iteratively.\n",
    "\n",
    "The initial values to start the process of GD is set randomly, in this sense one will not find the best solution, but will find one of the best solutions possible (given the randomness of the process)."
   ]
  },
  {
   "cell_type": "code",
   "execution_count": null,
   "id": "160fd49c",
   "metadata": {},
   "outputs": [],
   "source": []
  }
 ],
 "metadata": {
  "kernelspec": {
   "display_name": "Python 3",
   "language": "python",
   "name": "python3"
  },
  "language_info": {
   "codemirror_mode": {
    "name": "ipython",
    "version": 3
   },
   "file_extension": ".py",
   "mimetype": "text/x-python",
   "name": "python",
   "nbconvert_exporter": "python",
   "pygments_lexer": "ipython3",
   "version": "3.8.5"
  },
  "toc": {
   "base_numbering": 1,
   "nav_menu": {},
   "number_sections": true,
   "sideBar": true,
   "skip_h1_title": false,
   "title_cell": "Table of Contents",
   "title_sidebar": "Contents",
   "toc_cell": false,
   "toc_position": {},
   "toc_section_display": true,
   "toc_window_display": false
  }
 },
 "nbformat": 4,
 "nbformat_minor": 5
}
