{
 "cells": [
  {
   "cell_type": "markdown",
   "id": "a1ab5e6b",
   "metadata": {},
   "source": [
    "## The *normal equation*"
   ]
  },
  {
   "cell_type": "code",
   "execution_count": 1,
   "id": "226f693e",
   "metadata": {},
   "outputs": [],
   "source": [
    "import numpy as np"
   ]
  },
  {
   "cell_type": "code",
   "execution_count": 2,
   "id": "5ae9268d",
   "metadata": {},
   "outputs": [],
   "source": [
    "X = 2 * np.random.rand(100,1)\n",
    "y = 4 + 3 * X + np.random.randn(100,1)"
   ]
  },
  {
   "cell_type": "markdown",
   "id": "80ea2e83",
   "metadata": {},
   "source": [
    "Looking at our data"
   ]
  },
  {
   "cell_type": "code",
   "execution_count": 3,
   "id": "c2892e34",
   "metadata": {},
   "outputs": [],
   "source": [
    "import matplotlib.pyplot as plt"
   ]
  },
  {
   "cell_type": "code",
   "execution_count": 4,
   "id": "04887544",
   "metadata": {},
   "outputs": [
    {
     "data": {
      "image/png": "[encoded data removed]",
      "text/plain": [
       "<Figure size 432x288 with 1 Axes>"
      ]
     },
     "metadata": {
      "needs_background": "light"
     },
     "output_type": "display_data"
    }
   ],
   "source": [
    "plt.scatter(X,y,color='blue')\n",
    "plt.ylabel('y', fontsize=14)\n",
    "plt.xlabel('x1', fontsize=14)\n",
    "plt.title('Linear dataset created randomnly', fontsize=16, y=-0.25);"
   ]
  },
  {
   "cell_type": "markdown",
   "id": "705d1f07",
   "metadata": {},
   "source": [
    "Computing the Normal Equation"
   ]
  },
  {
   "cell_type": "code",
   "execution_count": 5,
   "id": "cb094601",
   "metadata": {},
   "outputs": [],
   "source": [
    "X_b = np.c_[np.ones((100, 1)), X] \n",
    "theta_best = np.linalg.inv(X_b.T.dot(X_b)).dot(X_b.T).dot(y)"
   ]
  },
  {
   "cell_type": "code",
   "execution_count": 6,
   "id": "bc6bf058",
   "metadata": {},
   "outputs": [
    {
     "data": {
      "text/plain": [
       "array([[4.04629058],\n",
       "       [2.9372505 ]])"
      ]
     },
     "execution_count": 6,
     "metadata": {},
     "output_type": "execute_result"
    }
   ],
   "source": [
    "theta_best"
   ]
  },
  {
   "cell_type": "markdown",
   "id": "288b8197",
   "metadata": {},
   "source": [
    "Making predictions"
   ]
  },
  {
   "cell_type": "code",
   "execution_count": 7,
   "id": "ed60de17",
   "metadata": {},
   "outputs": [
    {
     "data": {
      "text/plain": [
       "array([[4.04629058],\n",
       "       [9.92079159]])"
      ]
     },
     "execution_count": 7,
     "metadata": {},
     "output_type": "execute_result"
    }
   ],
   "source": [
    "X_new = np.array([[0], [2]])\n",
    "X_new_b= np.c_[np.ones((2,1)), X_new]\n",
    "y_predict = X_new_b.dot(theta_best)\n",
    "y_predict"
   ]
  },
  {
   "cell_type": "markdown",
   "id": "c06d4d1c",
   "metadata": {},
   "source": [
    "Plotting the predictions"
   ]
  },
  {
   "cell_type": "code",
   "execution_count": 8,
   "id": "578a1f64",
   "metadata": {},
   "outputs": [
    {
     "data": {
      "image/png": "[encoded data removed]",
      "text/plain": [
       "<Figure size 432x288 with 1 Axes>"
      ]
     },
     "metadata": {
      "needs_background": "light"
     },
     "output_type": "display_data"
    }
   ],
   "source": [
    "plt.plot(X_new, y_predict, 'r-', label='Predictions')\n",
    "plt.plot(X, y, \"b.\")\n",
    "plt.axis([0, 2,0, 15])\n",
    "plt.legend()\n",
    "plt.show()"
   ]
  },
  {
   "cell_type": "markdown",
   "id": "105a1d5c",
   "metadata": {},
   "source": [
    "Alternatively, we could perform the same analysis using Scikit-Learn Linear Regression"
   ]
  },
  {
   "cell_type": "code",
   "execution_count": 9,
   "id": "34fe7812",
   "metadata": {},
   "outputs": [],
   "source": [
    "from sklearn.linear_model import LinearRegression"
   ]
  },
  {
   "cell_type": "code",
   "execution_count": 10,
   "id": "ebecd09b",
   "metadata": {},
   "outputs": [
    {
     "data": {
      "text/plain": [
       "(array([4.04629058]), array([[2.9372505]]))"
      ]
     },
     "execution_count": 10,
     "metadata": {},
     "output_type": "execute_result"
    }
   ],
   "source": [
    "lin_reg = LinearRegression()\n",
    "lin_reg.fit(X,y)\n",
    "lin_reg.intercept_, lin_reg.coef_ "
   ]
  },
  {
   "cell_type": "code",
   "execution_count": 11,
   "id": "233299d9",
   "metadata": {},
   "outputs": [
    {
     "data": {
      "text/plain": [
       "array([[4.04629058],\n",
       "       [9.92079159]])"
      ]
     },
     "execution_count": 11,
     "metadata": {},
     "output_type": "execute_result"
    }
   ],
   "source": [
    "lin_reg.predict(X_new)"
   ]
  },
  {
   "cell_type": "markdown",
   "id": "b7a1b755",
   "metadata": {},
   "source": [
    "## Computational complexity\n",
    "Although these methdods were able get to the same results, the computational complexity of the Normal Equation is far greater. In this sense, the implementation on Sickit-Learn (SVD) is able to achieve results much faster, especially when dealing with larger datasets and with more features.\n",
    "\n",
    "On the other hand both NE and SVD are very slow when the number of features grows very large (e.g 100,000)."
   ]
  },
  {
   "cell_type": "markdown",
   "id": "a6b54ef1",
   "metadata": {},
   "source": [
    "## Gradient descent\n",
    "Gradient descent is a generic optimization algorithm that works by tweaking the parameters and testing the results of the new model iteratively.\n",
    "\n",
    "The initial values to start the process of GD is set randomly, in this sense one will not find the best solution, but will find one of the best solutions possible (given the randomness of the process).\n",
    "\n",
    "Depending on the learning rate parameter set, we could end up jumping across the valley and ending up on the other side, possibly higher up. This indicates a failure on finding a good solution.\n",
    "\n",
    "In addition, the GD optimization curves are not always a smooth descent until the rock bottom. In fact, if we find a good value and stop the process too early we might eventually be selecting the local minimum, instead the global minimum that would be achieved by some extra steps. On the other hand, if we keep finding bad results in a row and stop the process thinking that it has come to a stalemate, we might miss the optimal result that was just some steps away.\n",
    "\n",
    "When talking about the MSE cost function on a Linear Regression, we have a *convex* function. This implies that there are no local minima, just one global minimum. This has the following consequence: GD is guaranteed to approach arbitrairly close to the global minimum (if we wait long enough). On the other hand it is also important to note that the scales of the variables that we are working influence the speed of the model to reach the global minimum. It is usually a good idea to standardize the scales."
   ]
  },
  {
   "cell_type": "markdown",
   "id": "5c1da84c",
   "metadata": {},
   "source": [
    "Implementing a MSE GD function basically means calculating the MSE for every small variance for each parameter present in our **X** matrix. Briefly, it would be like calculating the angle of the ground when looking forward, backward, left, right, ... and this would be expanded for as many dimensions as many features we have. Although it is a bit trippy, that is the feel of it. \n",
    "\n",
    "The batch GD function (as this approach is called) can be easily expanded to work with thousands of features in an effective way. On the other hand, it is terribly slow when working with larger datasets.\n",
    "\n",
    "Still, it is far better than the Normal Equation or SVD decomposition."
   ]
  },
  {
   "cell_type": "code",
   "execution_count": 12,
   "id": "48ba896b",
   "metadata": {},
   "outputs": [],
   "source": [
    "eta = 0.1 # learning rate\n",
    "n_iterations = 1000\n",
    "m = 100"
   ]
  },
  {
   "cell_type": "code",
   "execution_count": 13,
   "id": "792acf6d",
   "metadata": {},
   "outputs": [],
   "source": [
    "theta = np.random.randn(2,1) #random initialization"
   ]
  },
  {
   "cell_type": "code",
   "execution_count": 14,
   "id": "5bc946a1",
   "metadata": {},
   "outputs": [],
   "source": [
    "for iteration in range(n_iterations):\n",
    "    gradients = 2/m * X_b.T.dot(X_b.dot(theta) - y)\n",
    "    theta = theta - eta * gradients"
   ]
  },
  {
   "cell_type": "code",
   "execution_count": 15,
   "id": "b707ff3e",
   "metadata": {},
   "outputs": [
    {
     "data": {
      "text/plain": [
       "array([[4.04629058],\n",
       "       [2.9372505 ]])"
      ]
     },
     "execution_count": 15,
     "metadata": {},
     "output_type": "execute_result"
    }
   ],
   "source": [
    "theta"
   ]
  },
  {
   "cell_type": "markdown",
   "id": "ed747283",
   "metadata": {},
   "source": [
    "Choosing the best learning rate is optimal for getting the best solutions. This can be done using the GridSearch method that we saw in previous chapters. The problem is that this can take a long time. A good idea would be to limit the number of iterations so that the test does not take too long. Other good approach would be to set a very large number of iterations but to interrupt the algorithm when the gradient vector becomes tiny, when its norm becomes smaller than a tiny number e (called tolerance) because this happens when the gradient has almost reached the minimum "
   ]
  }
 ],
 "metadata": {
  "kernelspec": {
   "display_name": "Python 3",
   "language": "python",
   "name": "python3"
  },
  "language_info": {
   "codemirror_mode": {
    "name": "ipython",
    "version": 3
   },
   "file_extension": ".py",
   "mimetype": "text/x-python",
   "name": "python",
   "nbconvert_exporter": "python",
   "pygments_lexer": "ipython3",
   "version": "3.8.5"
  },
  "toc": {
   "base_numbering": 1,
   "nav_menu": {},
   "number_sections": true,
   "sideBar": true,
   "skip_h1_title": false,
   "title_cell": "Table of Contents",
   "title_sidebar": "Contents",
   "toc_cell": false,
   "toc_position": {},
   "toc_section_display": true,
   "toc_window_display": false
  }
 },
 "nbformat": 4,
 "nbformat_minor": 5
}
