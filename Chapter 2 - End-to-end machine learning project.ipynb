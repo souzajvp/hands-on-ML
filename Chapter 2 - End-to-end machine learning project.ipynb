{
 "cells": [
  {
   "cell_type": "markdown",
   "metadata": {},
   "source": [
    "# Scope of the problem\n",
    "***\n",
    "Your boss asked you (a recently hired data scientist) to **build a model to predict the median princing of houses in a region of California**. You have data of districts within that region (600 to 3000 inhabitantas per district). The results of your model will be used in a subsequent model to analyze the opportunity for investing in such region. <br>\n",
    "\n",
    "As of now, **this task is performed manually in a time- and cost-inefficient way**. No to mention that the average predictions have been producing errors of ~20%.\n",
    "\n",
    "<font color ='blue'> >> </font> This looks like a **supervised, regression problem** (we are trying to predict a numeric varialbe `house prices`) and most likely we could apply a **batch learning** method. "
   ]
  },
  {
   "cell_type": "markdown",
   "metadata": {},
   "source": [
    "After understanding the problem, we need to select a metric to evaluate the performance of the models. One that is fairly commonly used in regression problems is the Root Mean Square Error (RMSE). The equantion bellow represents how RMSE is calculated."
   ]
  },
  {
   "cell_type": "markdown",
   "metadata": {},
   "source": [
    "$RMSE(\\mathbf{X}, \\mathit{h}) = \\sqrt{\\frac{1}{\\mathit{m}}\\sum_{i=1}^{m}(h(\\mathbf{x}^{i}) -y^{i})^{2}}$ "
   ]
  },
  {
   "cell_type": "markdown",
   "metadata": {},
   "source": [
    "<font color ='blue'> >> </font> From here on now, I will have more contact with some of the math behind the models and metrics. In this sense, I decided to take a look into what each term mean.\n",
    "* *m* is the numer of data entries you are measuring. So if your validation set has 299 rows, *m* = 299\n",
    "* $\\mathbf{x}^{i}\\$ is a vector of all the features, except the label.\n",
    "\n",
    "* $\\mathbf{y}^{i}\\$ is the label.\n",
    "\n",
    "Just to make it clearer, lets say that the values for our first district were 123, 321, 2 and 25,000 for `number of houses`, `number of inhabitants`, `number of hospitals` and `average house pricing`, respectively. This would give us the following: <br>\n",
    "$\\mathbf{x}^{i} = \\begin{pmatrix} 123\\\\ 321\\\\ -2\\\\ \\end{pmatrix}$\n",
    "\n",
    "$\\mathbf{y}^{i}\\ = 25,000$\n",
    "\n",
    "\n"
   ]
  }
 ],
 "metadata": {
  "kernelspec": {
   "display_name": "Python 3",
   "language": "python",
   "name": "python3"
  },
  "language_info": {
   "codemirror_mode": {
    "name": "ipython",
    "version": 3
   },
   "file_extension": ".py",
   "mimetype": "text/x-python",
   "name": "python",
   "nbconvert_exporter": "python",
   "pygments_lexer": "ipython3",
   "version": "3.8.5"
  }
 },
 "nbformat": 4,
 "nbformat_minor": 4
}
